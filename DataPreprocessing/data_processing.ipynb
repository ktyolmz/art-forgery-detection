{
 "cells": [
  {
   "cell_type": "code",
   "execution_count": 2,
   "id": "9aee574b",
   "metadata": {},
   "outputs": [],
   "source": [
    "import pandas as pd\n",
    "import json\n",
    "import os"
   ]
  },
  {
   "cell_type": "code",
   "execution_count": 14,
   "id": "61f74029-151d-4639-b265-d6c66de9aa27",
   "metadata": {},
   "outputs": [],
   "source": [
    "test_file_path = 'similar\\\\test_similar.json'\n",
    "train_file_path = 'similar\\\\train_similar.json'\n",
    "base_path = r'..\\deepFakeArtChallenge\\v2'\n",
    "\n",
    "full_path = os.path.abspath(os.path.join(base_path, test_file_path))"
   ]
  },
  {
   "cell_type": "code",
   "execution_count": 15,
   "id": "ace997d9",
   "metadata": {},
   "outputs": [],
   "source": [
    "with open(full_path) as f:\n",
    "    json_data = json.load(f)"
   ]
  },
  {
   "cell_type": "code",
   "execution_count": 23,
   "id": "858fba6e-e192-4f7e-93c5-07844031fd58",
   "metadata": {},
   "outputs": [],
   "source": [
    "# DataFrame oluşturma\n",
    "data_list = []\n",
    "\n",
    "for category, items in json_data.items():\n",
    "    for item_id, subItems in items.items():\n",
    "        original_path = subItems[\"original\"]\n",
    "        generated_path = subItems[\"generated\"]\n",
    "\n",
    "        # category kontrolü 1 for style_transfer, 0 for inpainting\n",
    "        style_transfer = 1 if category == \"style_transfer\" else 0\n",
    "\n",
    "        # Original resim\n",
    "        data_list.append({\n",
    "            \"image\": original_path,\n",
    "            \"category\": style_transfer,\n",
    "            \"original\": 1,\n",
    "            \"generated\": 0\n",
    "        })\n",
    "\n",
    "        # Generated resim\n",
    "        data_list.append({\n",
    "            \"image\": generated_path,\n",
    "            \"category\": style_transfer,\n",
    "            \"original\": 0,\n",
    "            \"generated\": 1\n",
    "        })\n",
    "\n",
    "# DataFrame oluşturma\n",
    "df = pd.DataFrame(data_list)\n"
   ]
  },
  {
   "cell_type": "code",
   "execution_count": 24,
   "id": "5c5390e4-0589-4241-99d4-d41ad00a5c02",
   "metadata": {},
   "outputs": [
    {
     "data": {
      "text/html": [
       "<div>\n",
       "<style scoped>\n",
       "    .dataframe tbody tr th:only-of-type {\n",
       "        vertical-align: middle;\n",
       "    }\n",
       "\n",
       "    .dataframe tbody tr th {\n",
       "        vertical-align: top;\n",
       "    }\n",
       "\n",
       "    .dataframe thead th {\n",
       "        text-align: right;\n",
       "    }\n",
       "</style>\n",
       "<table border=\"1\" class=\"dataframe\">\n",
       "  <thead>\n",
       "    <tr style=\"text-align: right;\">\n",
       "      <th></th>\n",
       "      <th>image</th>\n",
       "      <th>category</th>\n",
       "      <th>original</th>\n",
       "      <th>generated</th>\n",
       "    </tr>\n",
       "  </thead>\n",
       "  <tbody>\n",
       "    <tr>\n",
       "      <th>0</th>\n",
       "      <td>original/inpainting/14_original.png</td>\n",
       "      <td>0</td>\n",
       "      <td>1</td>\n",
       "      <td>0</td>\n",
       "    </tr>\n",
       "    <tr>\n",
       "      <th>1</th>\n",
       "      <td>generated/inpainting/14_inpainting.png</td>\n",
       "      <td>0</td>\n",
       "      <td>0</td>\n",
       "      <td>1</td>\n",
       "    </tr>\n",
       "    <tr>\n",
       "      <th>2</th>\n",
       "      <td>original/inpainting/22_original.png</td>\n",
       "      <td>0</td>\n",
       "      <td>1</td>\n",
       "      <td>0</td>\n",
       "    </tr>\n",
       "    <tr>\n",
       "      <th>3</th>\n",
       "      <td>generated/inpainting/22_inpainting.png</td>\n",
       "      <td>0</td>\n",
       "      <td>0</td>\n",
       "      <td>1</td>\n",
       "    </tr>\n",
       "    <tr>\n",
       "      <th>4</th>\n",
       "      <td>original/inpainting/29_original.png</td>\n",
       "      <td>0</td>\n",
       "      <td>1</td>\n",
       "      <td>0</td>\n",
       "    </tr>\n",
       "    <tr>\n",
       "      <th>...</th>\n",
       "      <td>...</td>\n",
       "      <td>...</td>\n",
       "      <td>...</td>\n",
       "      <td>...</td>\n",
       "    </tr>\n",
       "    <tr>\n",
       "      <th>12511</th>\n",
       "      <td>generated/style_transfer/Ukiyo_e_361_generated...</td>\n",
       "      <td>1</td>\n",
       "      <td>0</td>\n",
       "      <td>1</td>\n",
       "    </tr>\n",
       "    <tr>\n",
       "      <th>12512</th>\n",
       "      <td>original/style_transfer/Ukiyo_e_383_original.png</td>\n",
       "      <td>1</td>\n",
       "      <td>1</td>\n",
       "      <td>0</td>\n",
       "    </tr>\n",
       "    <tr>\n",
       "      <th>12513</th>\n",
       "      <td>generated/style_transfer/Ukiyo_e_383_generated...</td>\n",
       "      <td>1</td>\n",
       "      <td>0</td>\n",
       "      <td>1</td>\n",
       "    </tr>\n",
       "    <tr>\n",
       "      <th>12514</th>\n",
       "      <td>original/style_transfer/Ukiyo_e_384_original.png</td>\n",
       "      <td>1</td>\n",
       "      <td>1</td>\n",
       "      <td>0</td>\n",
       "    </tr>\n",
       "    <tr>\n",
       "      <th>12515</th>\n",
       "      <td>generated/style_transfer/Ukiyo_e_384_generated...</td>\n",
       "      <td>1</td>\n",
       "      <td>0</td>\n",
       "      <td>1</td>\n",
       "    </tr>\n",
       "  </tbody>\n",
       "</table>\n",
       "<p>12516 rows × 4 columns</p>\n",
       "</div>"
      ],
      "text/plain": [
       "                                                   image  category  original  \\\n",
       "0                    original/inpainting/14_original.png         0         1   \n",
       "1                 generated/inpainting/14_inpainting.png         0         0   \n",
       "2                    original/inpainting/22_original.png         0         1   \n",
       "3                 generated/inpainting/22_inpainting.png         0         0   \n",
       "4                    original/inpainting/29_original.png         0         1   \n",
       "...                                                  ...       ...       ...   \n",
       "12511  generated/style_transfer/Ukiyo_e_361_generated...         1         0   \n",
       "12512   original/style_transfer/Ukiyo_e_383_original.png         1         1   \n",
       "12513  generated/style_transfer/Ukiyo_e_383_generated...         1         0   \n",
       "12514   original/style_transfer/Ukiyo_e_384_original.png         1         1   \n",
       "12515  generated/style_transfer/Ukiyo_e_384_generated...         1         0   \n",
       "\n",
       "       generated  \n",
       "0              0  \n",
       "1              1  \n",
       "2              0  \n",
       "3              1  \n",
       "4              0  \n",
       "...          ...  \n",
       "12511          1  \n",
       "12512          0  \n",
       "12513          1  \n",
       "12514          0  \n",
       "12515          1  \n",
       "\n",
       "[12516 rows x 4 columns]"
      ]
     },
     "execution_count": 24,
     "metadata": {},
     "output_type": "execute_result"
    }
   ],
   "source": [
    "df"
   ]
  },
  {
   "cell_type": "code",
   "execution_count": 18,
   "id": "f8667188-5412-4b68-b901-fabbac140274",
   "metadata": {},
   "outputs": [
    {
     "name": "stdout",
     "output_type": "stream",
     "text": [
      "train_similar\n"
     ]
    }
   ],
   "source": [
    "json_file_name = os.path.splitext(os.path.basename(file_path))[0]\n",
    "print(json_file_name)"
   ]
  },
  {
   "cell_type": "code",
   "execution_count": 19,
   "id": "2ae68164-cab7-47fa-a6f2-58641076c934",
   "metadata": {},
   "outputs": [],
   "source": [
    "df.to_csv(f'{json_file_name}.csv', index=False)"
   ]
  },
  {
   "cell_type": "code",
   "execution_count": 6,
   "id": "20217c61-95b4-4069-a549-6a9ee5fed6ed",
   "metadata": {},
   "outputs": [],
   "source": [
    "# Merged version CSV\n",
    "\n",
    "df1 = pd.read_csv('test_similar.csv')\n",
    "df2 = pd.read_csv('train_similar.csv')\n",
    "\n",
    "merged_df = pd.concat([df1, df2])\n",
    "\n",
    "merged_df.to_csv('merged_data.csv', index=False)"
   ]
  }
 ],
 "metadata": {
  "kernelspec": {
   "display_name": "Python 3 (ipykernel)",
   "language": "python",
   "name": "python3"
  },
  "language_info": {
   "codemirror_mode": {
    "name": "ipython",
    "version": 3
   },
   "file_extension": ".py",
   "mimetype": "text/x-python",
   "name": "python",
   "nbconvert_exporter": "python",
   "pygments_lexer": "ipython3",
   "version": "3.11.4"
  }
 },
 "nbformat": 4,
 "nbformat_minor": 5
}
